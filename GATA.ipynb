{
 "cells": [
  {
   "cell_type": "code",
   "execution_count": 1,
   "metadata": {
    "collapsed": true
   },
   "outputs": [],
   "source": [
    "import pandas as pd\n",
    "import numpy as np"
   ]
  },
  {
   "cell_type": "markdown",
   "metadata": {},
   "source": [
    "# Observaciones\n",
    "\n",
    "\n",
    "+ Los indicadores se utilizarán para generar la métrica de consenso y a partir de esta generar las señales.\n",
    "+ ¿Cómo cruzar individuos? (Se facilita si cada individuo tiene el mismo número de indicadores)\n",
    "+ ¿Mutuar sólo parámetros del indicador o el indicador en su totalidad?\n",
    "+ ¿Cómo calcular el fitness?"
   ]
  },
  {
   "cell_type": "code",
   "execution_count": 55,
   "metadata": {
    "collapsed": false
   },
   "outputs": [],
   "source": [
    "#Defines the domain for the parameters\n",
    "#The format is:\n",
    "#[lowerBound,upperBound] For numerical parameters\n",
    "#[category1,...,categoryN] For categorical parameters\n",
    "sigma=[0.1,3]\n",
    "timeWindow=[5,30]\n",
    "typeMA=['simple','exponential']\n",
    "indicatorKinds=['BB','MA']\n",
    "indicatorsNumber=[1,10]\n",
    "\n",
    "\n",
    "def selectNumericalReal(limits):\n",
    "    '''\n",
    "    Selects a real random number between the limits\n",
    "    '''\n",
    "    return np.random.uniform(limits[0],limits[1],1)[0]\n",
    "\n",
    "def selectNumericalInteger(limits):\n",
    "    '''\n",
    "    Selects a random integer between the limits\n",
    "    '''\n",
    "    return np.random.choice(range(limits[0],limits[1]+1),1)[0]\n",
    "\n",
    "def selectCategorical(kinds):\n",
    "    '''\n",
    "    Selects a random category\n",
    "    '''\n",
    "    return np.random.choice(kinds,1)[0]\n",
    "    \n",
    "\n",
    "\n",
    "class indicator:\n",
    "    '''\n",
    "    Creates a randomly chosen technical indicator\n",
    "    '''\n",
    "        \n",
    "    def __init__(self):\n",
    "        self.params = {}\n",
    "        self.params['indicator'] = selectCategorical(indicatorKinds) \n",
    "        \n",
    "        if self.params['indicator']=='BB':\n",
    "            self.params['timeWindow'] = selectNumericalInteger(timeWindow)\n",
    "            self.params['stdDev'] = selectNumericalReal(sigma)\n",
    "            self.params['movingAverageMethod'] = selectCategorical(typeMA)\n",
    "            \n",
    "        elif self.params['indicator']=='MA':\n",
    "            self.params['timeWindow'] = selectNumericalInteger(timeWindow)\n",
    "            self.params['movingAverageMethod'] = selectCategorical(typeMA)\n",
    "\n",
    "class individual:\n",
    "    '''\n",
    "    creates an individual from the population\n",
    "    '''\n",
    "    \n",
    "    def __init__(self):\n",
    "        self.fenotype = {}\n",
    "        self.fenotype['numberIndicators'] = selectNumericalInteger(indicatorsNumber)\n",
    "        self.fenotype['indicators']=[]\n",
    "        for i in range(0,self.fenotype['numberIndicators']):\n",
    "            self.fenotype['indicators'].append(indicator())\n",
    "        \n",
    "        \n",
    "\n",
    "            \n",
    "def getSignals(indicator,data):\n",
    "    '''\n",
    "    Gets the trading signals for a specific indicator using the data in the dataset\n",
    "    \n",
    "    ======\n",
    "    Params:\n",
    "    indicator: An object from the class indicator\n",
    "    data: A pandas data set containing the data\n",
    "    ======\n",
    "    \n",
    "    ======\n",
    "    Output:\n",
    "    \n",
    "    \n",
    "    \n",
    "    '''\n",
    "            \n",
    "            "
   ]
  },
  {
   "cell_type": "code",
   "execution_count": 84,
   "metadata": {
    "collapsed": false
   },
   "outputs": [
    {
     "data": {
      "text/plain": [
       "8"
      ]
     },
     "execution_count": 84,
     "metadata": {},
     "output_type": "execute_result"
    }
   ],
   "source": [
    "#Creates population\n",
    "populationSize=10\n",
    "population=[]\n",
    "\n",
    "for i in range(0,populationSize):\n",
    "    population.append(individual())\n",
    "population[7].fenotype['numberIndicators']"
   ]
  },
  {
   "cell_type": "code",
   "execution_count": 103,
   "metadata": {
    "collapsed": false
   },
   "outputs": [
    {
     "data": {
      "text/plain": [
       "{'indicator': 'BB',\n",
       " 'movingAverageMethod': 'exponential',\n",
       " 'stdDev': 1.3532476226404524,\n",
       " 'timeWindow': 15}"
      ]
     },
     "execution_count": 103,
     "metadata": {},
     "output_type": "execute_result"
    }
   ],
   "source": [
    "population[4].fenotype['indicators'][5].params"
   ]
  }
 ],
 "metadata": {
  "kernelspec": {
   "display_name": "Python 2",
   "language": "python",
   "name": "python2"
  },
  "language_info": {
   "codemirror_mode": {
    "name": "ipython",
    "version": 2
   },
   "file_extension": ".py",
   "mimetype": "text/x-python",
   "name": "python",
   "nbconvert_exporter": "python",
   "pygments_lexer": "ipython2",
   "version": "2.7.11"
  }
 },
 "nbformat": 4,
 "nbformat_minor": 0
}
